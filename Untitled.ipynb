{
 "cells": [
  {
   "cell_type": "code",
   "execution_count": 1,
   "metadata": {},
   "outputs": [
    {
     "name": "stdout",
     "output_type": "stream",
     "text": [
      "50\n",
      "You purchased a 'Sword'\n",
      "You purchased a 'Potion'\n",
      "35\n"
     ]
    }
   ],
   "source": [
    "class Item(object):\n",
    "    def __init__(self, name, value, quantity=1):\n",
    "        self.name = name\n",
    "        self.raw = name.strip().lower()\n",
    "        self.quantity = quantity\n",
    "\n",
    "        self.value = value\n",
    "        self.netValue = quantity * value\n",
    "\n",
    "    def recalc(self):\n",
    "        self.netValue = self.quantity * self.value\n",
    "\n",
    "\n",
    "class Container(object):\n",
    "    def __init__(self, name):\n",
    "        self.name = name\n",
    "        self.inside = {}\n",
    "\n",
    "    def __iter__(self):\n",
    "        return iter(self.inside.items())\n",
    "\n",
    "    def __len__(self):\n",
    "        return len(self.inside)\n",
    "\n",
    "    def __contains__(self, item):\n",
    "        return item.raw in self.inside\n",
    "\n",
    "    def __getitem__(self, item):\n",
    "        return self.inside[item.raw]\n",
    "\n",
    "    def __setitem__(self, item, value):\n",
    "        self.inside[item.raw] = value\n",
    "        return self[item]\n",
    "\n",
    "    def add(self, item, quantity=1):\n",
    "        if quantity < 0:\n",
    "            raise ValueError(\"Negative quantity. Use remove() instead\")\n",
    "\n",
    "        if item in self:\n",
    "            self[item].quantity += quantity\n",
    "            self[item].recalc()\n",
    "        else:\n",
    "            self[item] = item\n",
    "\n",
    "    def remove(self, item, quantity=1):\n",
    "        if item not in self:\n",
    "            raise KeyError(\"Item not in container\")\n",
    "        if quantity < 0:\n",
    "            raise ValueError(\"Negative quantity. Use add() instead\")\n",
    "\n",
    "        if self[item].quantity <= quantity:\n",
    "            del self.inside[item.raw]\n",
    "        else:\n",
    "            self[item].quantity -= quantity\n",
    "            self[item].recalc()\n",
    "\n",
    "backpack = Container(\"Backpack\")\n",
    "\n",
    "sword = Item(\"Sword\", 10)\n",
    "gold = Item(\"Gold Coin\", 1, 50)\n",
    "potion = Item(\"Potion\", 5)\n",
    "\n",
    "backpack.add(sword)\n",
    "backpack.add(gold)\n",
    "\n",
    "\n",
    "def purchase(*items):\n",
    "    for item in items:\n",
    "        if item.value > backpack[gold].quantity:\n",
    "            print(\"You don't have enough money!\")\n",
    "            print(\"Come back when you have {0} more gold.\".format(item.value - backpack[gold].quantity))\n",
    "        else:\n",
    "            backpack.remove(gold, item.value)\n",
    "            backpack.add(item)\n",
    "            print(\"You purchased a '{0}'\".format(item.name))\n",
    "\n",
    "print(backpack[gold].quantity)\n",
    "purchase(sword, potion)\n",
    "print(backpack[gold].quantity)"
   ]
  },
  {
   "cell_type": "code",
   "execution_count": 7,
   "metadata": {},
   "outputs": [
    {
     "name": "stdout",
     "output_type": "stream",
     "text": [
      "2\n"
     ]
    }
   ],
   "source": [
    "backpack.remove(sword)\n",
    "print(backpack[sword].quantity)"
   ]
  },
  {
   "cell_type": "code",
   "execution_count": null,
   "metadata": {},
   "outputs": [],
   "source": []
  }
 ],
 "metadata": {
  "kernelspec": {
   "display_name": "Python 3",
   "language": "python",
   "name": "python3"
  },
  "language_info": {
   "codemirror_mode": {
    "name": "ipython",
    "version": 3
   },
   "file_extension": ".py",
   "mimetype": "text/x-python",
   "name": "python",
   "nbconvert_exporter": "python",
   "pygments_lexer": "ipython3",
   "version": "3.8.4"
  }
 },
 "nbformat": 4,
 "nbformat_minor": 2
}
